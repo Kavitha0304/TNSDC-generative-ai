{
 "cells": [
  {
   "cell_type": "code",
   "execution_count": null,
   "id": "dafcc5d4",
   "metadata": {},
   "outputs": [],
   "source": [
    "import numpy as np\n",
    "import tensorflow as tf\n",
    "from tensorflow.keras.preprocessing.text import Tokenizer\n",
    "from tensorflow.keras.preprocessing.sequence import pad_sequences\n",
    "\n",
    "# Sample dataset of children's queries and corresponding responses\n",
    "queries = [\"What is the capital of France?\", \"Tell me a story\", ...]\n",
    "responses = [\"The capital of France is Paris.\", \"Once upon a time...\", ...]\n",
    "\n",
    "# Tokenize input queries and pad sequences to ensure uniform length\n",
    "tokenizer = Tokenizer()\n",
    "tokenizer.fit_on_texts(queries)\n",
    "query_sequences = tokenizer.texts_to_sequences(queries)\n",
    "query_sequences_padded = pad_sequences(query_sequences, maxlen=max_sequence_length)\n",
    "\n",
    "# Define the Artificial Neural Network model\n",
    "model = tf.keras.Sequential([\n",
    "    tf.keras.layers.Embedding(input_dim=vocab_size, output_dim=embedding_dim, input_length=max_sequence_length),\n",
    "    tf.keras.layers.Flatten(),\n",
    "    tf.keras.layers.Dense(128, activation='relu'),\n",
    "    tf.keras.layers.Dense(num_classes, activation='softmax')\n",
    "])\n",
    "\n",
    "# Compile the model\n",
    "model.compile(optimizer='adam', loss='sparse_categorical_crossentropy', metrics=['accuracy'])\n",
    "\n",
    "# Train the model\n",
    "model.fit(query_sequences_padded, np.array(labels), epochs=num_epochs, batch_size=batch_size)\n",
    "\n",
    "# Function to generate response based on input query\n",
    "def generate_response(query):\n",
    "    query_sequence = tokenizer.texts_to_sequences([query])\n",
    "    query_sequence_padded = pad_sequences(query_sequence, maxlen=max_sequence_length)\n",
    "    predicted_class = np.argmax(model.predict(query_sequence_padded))\n",
    "    return responses[predicted_class]\n"
   ]
  }
 ],
 "metadata": {
  "kernelspec": {
   "display_name": "Python 3 (ipykernel)",
   "language": "python",
   "name": "python3"
  },
  "language_info": {
   "codemirror_mode": {
    "name": "ipython",
    "version": 3
   },
   "file_extension": ".py",
   "mimetype": "text/x-python",
   "name": "python",
   "nbconvert_exporter": "python",
   "pygments_lexer": "ipython3",
   "version": "3.11.5"
  }
 },
 "nbformat": 4,
 "nbformat_minor": 5
}
