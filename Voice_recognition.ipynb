{
  "nbformat": 4,
  "nbformat_minor": 0,
  "metadata": {
    "colab": {
      "provenance": [],
      "authorship_tag": "ABX9TyPt3/QJzrmSRfP1AcJJKVbl",
      "include_colab_link": true
    },
    "kernelspec": {
      "name": "python3",
      "display_name": "Python 3"
    },
    "language_info": {
      "name": "python"
    }
  },
  "cells": [
    {
      "cell_type": "markdown",
      "metadata": {
        "id": "view-in-github",
        "colab_type": "text"
      },
      "source": [
        "<a href=\"https://colab.research.google.com/github/Kavitha0304/TNSDC-generative-ai/blob/main/Voice_recognition.ipynb\" target=\"_parent\"><img src=\"https://colab.research.google.com/assets/colab-badge.svg\" alt=\"Open In Colab\"/></a>"
      ]
    },
    {
      "cell_type": "code",
      "source": [
        "\n",
        "import numpy as np\n",
        "import tensorflow as tf\n",
        "from tensorflow.keras.preprocessing.text import Tokenizer\n",
        "from tensorflow.keras.preprocessing.sequence import pad_sequences\n",
        "\n",
        "# Sample dataset of children's queries and corresponding responses\n",
        "queries = [\"What is the capital of France?\", \"Tell me a story\"]\n",
        "responses = [\"The capital of France is Paris.\", \"Once upon a time...\"]\n",
        "\n",
        "# Tokenize input queries and pad sequences to ensure uniform length\n",
        "tokenizer = Tokenizer()\n",
        "tokenizer.fit_on_texts(queries)\n",
        "query_sequences = tokenizer.texts_to_sequences(queries)\n",
        "max_sequence_length = max(len(seq) for seq in query_sequences)  # Assuming you've defined max_sequence_length\n",
        "query_sequences_padded = pad_sequences(query_sequences, maxlen=max_sequence_length)\n",
        "\n",
        "# Define parameters\n",
        "vocab_size = len(tokenizer.word_index) + 1  # Adding 1 because of reserved 0 index\n",
        "embedding_dim = 100  # You can adjust this\n",
        "num_classes = len(responses)  # Assuming each response corresponds to a unique class\n",
        "label_index = {response: index for index, response in enumerate(responses)}\n",
        "labels = [label_index[response] for response in responses]  # Map responses to indices\n",
        "num_epochs = 10\n",
        "batch_size = 32\n",
        "\n",
        "# Define the Artificial Neural Network model\n",
        "model = tf.keras.Sequential([\n",
        "    tf.keras.layers.Embedding(input_dim=vocab_size, output_dim=embedding_dim, input_length=max_sequence_length),\n",
        "    tf.keras.layers.GlobalMaxPooling1D(),\n",
        "    tf.keras.layers.Dense(128, activation='relu'),\n",
        "    tf.keras.layers.Dense(num_classes, activation='softmax')\n",
        "])\n",
        "\n",
        "# Compile the model\n",
        "model.compile(optimizer='adam', loss='sparse_categorical_crossentropy', metrics=['accuracy'])\n",
        "\n",
        "# Train the model\n",
        "model.fit(query_sequences_padded, np.array(labels), epochs=num_epochs, batch_size=batch_size, validation_split=0.2)\n",
        "\n",
        "# Function to generate response based on input query\n",
        "def generate_response(query):\n",
        "    query_sequence = tokenizer.texts_to_sequences([query])\n",
        "    query_sequence_padded = pad_sequences(query_sequence, maxlen=max_sequence_length)\n",
        "    predicted_class = np.argmax(model.predict(query_sequence_padded))\n",
        "    return responses[predicted_class]\n",
        "\n",
        "# Test the response generation function\n",
        "query = \"What is the capital of France?\"\n",
        "response = generate_response(query)\n",
        "print(\"Response:\", response)\n"
      ],
      "metadata": {
        "colab": {
          "base_uri": "https://localhost:8080/"
        },
        "id": "0Mfw4rZojBdz",
        "outputId": "30880c66-c4f8-4fb5-b018-70bba68a5a90"
      },
      "execution_count": 5,
      "outputs": [
        {
          "output_type": "stream",
          "name": "stdout",
          "text": [
            "Epoch 1/10\n",
            "1/1 [==============================] - 1s 941ms/step - loss: 0.7406 - accuracy: 0.0000e+00 - val_loss: 0.6914 - val_accuracy: 1.0000\n",
            "Epoch 2/10\n",
            "1/1 [==============================] - 0s 37ms/step - loss: 0.7085 - accuracy: 0.0000e+00 - val_loss: 0.7137 - val_accuracy: 0.0000e+00\n",
            "Epoch 3/10\n",
            "1/1 [==============================] - 0s 34ms/step - loss: 0.6791 - accuracy: 1.0000 - val_loss: 0.7358 - val_accuracy: 0.0000e+00\n",
            "Epoch 4/10\n",
            "1/1 [==============================] - 0s 33ms/step - loss: 0.6512 - accuracy: 1.0000 - val_loss: 0.7568 - val_accuracy: 0.0000e+00\n",
            "Epoch 5/10\n",
            "1/1 [==============================] - 0s 33ms/step - loss: 0.6249 - accuracy: 1.0000 - val_loss: 0.7771 - val_accuracy: 0.0000e+00\n",
            "Epoch 6/10\n",
            "1/1 [==============================] - 0s 58ms/step - loss: 0.6009 - accuracy: 1.0000 - val_loss: 0.7966 - val_accuracy: 0.0000e+00\n",
            "Epoch 7/10\n",
            "1/1 [==============================] - 0s 51ms/step - loss: 0.5789 - accuracy: 1.0000 - val_loss: 0.8166 - val_accuracy: 0.0000e+00\n",
            "Epoch 8/10\n",
            "1/1 [==============================] - 0s 33ms/step - loss: 0.5587 - accuracy: 1.0000 - val_loss: 0.8366 - val_accuracy: 0.0000e+00\n",
            "Epoch 9/10\n",
            "1/1 [==============================] - 0s 33ms/step - loss: 0.5391 - accuracy: 1.0000 - val_loss: 0.8566 - val_accuracy: 0.0000e+00\n",
            "Epoch 10/10\n",
            "1/1 [==============================] - 0s 34ms/step - loss: 0.5199 - accuracy: 1.0000 - val_loss: 0.8771 - val_accuracy: 0.0000e+00\n",
            "1/1 [==============================] - 0s 87ms/step\n",
            "Response: The capital of France is Paris.\n"
          ]
        }
      ]
    },
    {
      "cell_type": "code",
      "source": [],
      "metadata": {
        "id": "lhSGvrnFjBha"
      },
      "execution_count": null,
      "outputs": []
    },
    {
      "cell_type": "code",
      "source": [],
      "metadata": {
        "id": "uvMU8UKFjBtH"
      },
      "execution_count": null,
      "outputs": []
    }
  ]
}